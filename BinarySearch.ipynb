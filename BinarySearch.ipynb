{
 "cells": [
  {
   "cell_type": "markdown",
   "metadata": {},
   "source": [
    "Given a sorted (in ascending order) integer array nums of n elements and a target value, write a function to search target in nums. If target exists, then return its index, otherwise return -1.\n",
    "\n",
    "\n",
    "Example 1:\n",
    "\n",
    "Input: nums = [-1,0,3,5,9,12], target = 9\n",
    "Output: 4\n",
    "Explanation: 9 exists in nums and its index is 4\n",
    "\n",
    "Example 2:\n",
    "\n",
    "Input: nums = [-1,0,3,5,9,12], target = 2\n",
    "Output: -1\n",
    "Explanation: 2 does not exist in nums so return -1\n",
    " \n",
    "\n",
    "Note:\n",
    "\n",
    "You may assume that all elements in nums are unique.\n",
    "n will be in the range [1, 10000].\n",
    "The value of each element in nums will be in the range [-9999, 9999]."
   ]
  },
  {
   "cell_type": "markdown",
   "metadata": {},
   "source": [
    "Binary search algorithm:\n",
    "    \n",
    "We want to:\n",
    "\n",
    "(1) Look for the target\n",
    "\n",
    "(2) Return its index\n",
    "\n",
    "How?\n",
    "\n",
    "(1) Find the middle of the array.\n",
    "\n",
    "(2) If it's equal to the target, return the index.\n",
    "\n",
    "(3) If it's higher, find the middle of the start of the array and the current point (current point becomes the new end).\n",
    "\n",
    "(4) If it's lower, find the middle of the end of the array and the current point (current point becomes the new start).\n",
    "\n",
    "(5) If this doesn't work, return to 1.\n",
    "\n"
   ]
  },
  {
   "cell_type": "code",
   "execution_count": 349,
   "metadata": {},
   "outputs": [],
   "source": [
    "def search(nums, target):\n",
    "    catcher = nums\n",
    "    follower = 0\n",
    "    while True:\n",
    "        if len(catcher) == 0:\n",
    "            return -1\n",
    "        i = int(len(catcher)/2)\n",
    "        print(catcher[i], \"follower\", follower)\n",
    "        if catcher[i] == target:\n",
    "            return i + follower\n",
    "        elif len(catcher) == 1:\n",
    "            return -1\n",
    "        elif catcher[i] > target:\n",
    "            catcher = catcher[:i]\n",
    "            print(\"nums\", catcher)\n",
    "        elif catcher[i] < target:\n",
    "            follower = follower + int(len(catcher)/2) + 1\n",
    "            catcher = catcher[i+1:]\n",
    "            print(\"nums\", catcher)\n",
    "\n",
    "                \n",
    "                \n"
   ]
  },
  {
   "cell_type": "code",
   "execution_count": 356,
   "metadata": {},
   "outputs": [],
   "source": [
    "nums = [-1,0]\n",
    "target = 0"
   ]
  },
  {
   "cell_type": "code",
   "execution_count": 357,
   "metadata": {},
   "outputs": [
    {
     "name": "stdout",
     "output_type": "stream",
     "text": [
      "0 follower 0\n"
     ]
    },
    {
     "data": {
      "text/plain": [
       "1"
      ]
     },
     "execution_count": 357,
     "metadata": {},
     "output_type": "execute_result"
    }
   ],
   "source": [
    "search(nums, target)"
   ]
  },
  {
   "cell_type": "code",
   "execution_count": 199,
   "metadata": {},
   "outputs": [],
   "source": [
    "# Wrote this with recursion initially but got stuck on indexing. Can see ways to do it with a third variable in the mix. Not sure how to achieve with two and recursion.\n",
    "\n",
    "def search(nums, target):\n",
    "    x = target\n",
    "    i = int(len(nums)/2)\n",
    "    print(i)\n",
    "    print(nums)\n",
    "    if nums[i] == target:\n",
    "        print(\"Got it!\")\n",
    "        return i\n",
    "    elif i == 0 or i >= len(nums):\n",
    "        print(\"Not here\")\n",
    "        return -1\n",
    "    elif nums[i] > target:\n",
    "        print(\"Back half!\")\n",
    "        search(nums[:i], x)\n",
    "    elif nums[i] < target:\n",
    "        print(\"Front half!\")\n",
    "        search(nums[i:], x)\n",
    "        "
   ]
  },
  {
   "cell_type": "code",
   "execution_count": 202,
   "metadata": {},
   "outputs": [],
   "source": [
    "nums = [1,3,4,5,6,7]\n",
    "target = 4"
   ]
  },
  {
   "cell_type": "code",
   "execution_count": 203,
   "metadata": {},
   "outputs": [
    {
     "name": "stdout",
     "output_type": "stream",
     "text": [
      "3\n",
      "[1, 3, 4, 5, 6, 7]\n",
      "Back half!\n",
      "1\n",
      "[1, 3, 4]\n",
      "Front half!\n",
      "1\n",
      "[3, 4]\n",
      "Got it!\n"
     ]
    }
   ],
   "source": [
    "search(nums, target)"
   ]
  },
  {
   "cell_type": "code",
   "execution_count": null,
   "metadata": {},
   "outputs": [],
   "source": []
  },
  {
   "cell_type": "code",
   "execution_count": null,
   "metadata": {},
   "outputs": [],
   "source": []
  },
  {
   "cell_type": "code",
   "execution_count": null,
   "metadata": {},
   "outputs": [],
   "source": []
  },
  {
   "cell_type": "code",
   "execution_count": null,
   "metadata": {},
   "outputs": [],
   "source": []
  }
 ],
 "metadata": {
  "kernelspec": {
   "display_name": "Python 3",
   "language": "python",
   "name": "python3"
  },
  "language_info": {
   "codemirror_mode": {
    "name": "ipython",
    "version": 3
   },
   "file_extension": ".py",
   "mimetype": "text/x-python",
   "name": "python",
   "nbconvert_exporter": "python",
   "pygments_lexer": "ipython3",
   "version": "3.7.6"
  }
 },
 "nbformat": 4,
 "nbformat_minor": 4
}
