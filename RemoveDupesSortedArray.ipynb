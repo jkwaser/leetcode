{
 "cells": [
  {
   "cell_type": "markdown",
   "metadata": {},
   "source": [
    "Given a sorted array nums, remove the duplicates in-place such that each element appear only once and return the new length.\n",
    "\n",
    "Do not allocate extra space for another array, you must do this by modifying the input array in-place with O(1) extra memory.\n",
    "\n",
    "Example 1:\n",
    "\n",
    "Given nums = [1,1,2],\n",
    "\n",
    "Your function should return length = 2, with the first two elements of nums being 1 and 2 respectively.\n",
    "\n",
    "It doesn't matter what you leave beyond the returned length.\n",
    "\n",
    "Example 2:\n",
    "\n",
    "Given nums = [0,0,1,1,1,2,2,3,3,4],\n",
    "\n",
    "Your function should return length = 5, with the first five elements of nums being modified to 0, 1, 2, 3, and 4 respectively.\n",
    "\n",
    "It doesn't matter what values are set beyond the returned length.\n"
   ]
  },
  {
   "cell_type": "code",
   "execution_count": 354,
   "metadata": {},
   "outputs": [],
   "source": [
    "# To explain this, the series is sorted. So if we find a doubled number, we just look for the next number in the\n",
    "# sequence and copy it over. So for x = [0,0,0,1,2,3] we want to move 1 to x[1], 2 to x[2], 3 to x[3] and then finish.\n",
    "# As long as we reach the last number in the series and copy it to the nth element where n is the number of\n",
    "# uniques in the array we can stop there. \n",
    "\n",
    "def removeDuplicatesArray(nums):\n",
    "    if len(nums) == 0: # We don't want to return 1 for empty sets.\n",
    "        return 0\n",
    "    j = 0\n",
    "    for i in range(len(nums)): \n",
    "        if nums[i] != nums[j]: \n",
    "            j += 1\n",
    "            nums[j] = nums[i]\n",
    "    return j + 1 # J increments every time we find a different number to i, so it'll count 3 for [1,2,3,4] (diff bet)"
   ]
  },
  {
   "cell_type": "markdown",
   "metadata": {},
   "source": [
    "so we want to \n",
    "\n",
    "if i = i-1 and i = i+1 for i as index for array\n",
    "tick counter forward\n",
    "if i = i-1 and i != i+1\n",
    "let i = i+1\n",
    "\n",
    "array1 = [0,0,1,1,1,2,2,2,3,3,4,4,4,4,4]\n",
    "\n",
    "after step 1 \n",
    "\n",
    "i = 1\n",
    "\n",
    "so array1 becomes \n",
    "\n",
    "[0,1,1,1,1,2,2,2,3,3,4,4,4,4,4]\n",
    "\n",
    "we return to 1"
   ]
  },
  {
   "cell_type": "code",
   "execution_count": 362,
   "metadata": {},
   "outputs": [],
   "source": [
    "array1 = [1]\n",
    "array2 = [1,1,2,2,2,3,4]\n",
    "array3 = [0,0,1,3,3,3,3,3,4,4]\n",
    "array4 = [0,0,1,1,1,1,3,3,3,3]\n",
    "array5 = [-50,-50,-49,-49,-49,-49,-47,-47,-46,-46,-45,-45,-45,-45,-44,-44,-43,-43,-43,-42,-42,-42,-41,-41,-41,-41,-40,-40,-39,-39,-38,-37,-37,-36,-36,-34,-34,-33,-33,-33,-33,-33,-32,-32,-32,-32,-32,-32,-31,-31,-31,-30,-30,-27,-27,-26,-26,-26,-25,-24,-24,-23,-23,-22,-22,-22,-21,-21,-21,-21,-21,-21,-20,-20,-20,-19,-19,-18,-18,-18,-17,-16,-15,-15,-15,-13,-13,-10,-10,-9,-9,-8,-7,-6,-6,-6,-6,-6,-6,-6,-6,-5,-3,-2,-2,-1,-1,-1,0,0,1,1,2,2,3,3,4,5,5,6,6,7,7,7,9,9,10,10,10,10,11,11,14,14,15,16,17,17,17,18,18,19,20,20,20,21,22,22,23,23,25,25,26,26,29,30,30,30,31,31,32,32,32,32,32,34,35,35,36,37,37,38,38,40,40,41,42,43,43,43,43,44,44,45,47,47,48,48,48,48,49,49]"
   ]
  },
  {
   "cell_type": "code",
   "execution_count": 363,
   "metadata": {},
   "outputs": [
    {
     "name": "stdout",
     "output_type": "stream",
     "text": [
      "J 1 I 2 NUMS [0, 1, 1, 3, 3, 3, 3, 3, 4, 4]\n",
      "J 2 I 3 NUMS [0, 1, 3, 3, 3, 3, 3, 3, 4, 4]\n",
      "J 3 I 8 NUMS [0, 1, 3, 4, 3, 3, 3, 3, 4, 4]\n"
     ]
    },
    {
     "ename": "NameError",
     "evalue": "name 'tracker' is not defined",
     "output_type": "error",
     "traceback": [
      "\u001b[0;31m---------------------------------------------------------------------------\u001b[0m",
      "\u001b[0;31mNameError\u001b[0m                                 Traceback (most recent call last)",
      "\u001b[0;32m<ipython-input-363-301d0a0fdcd2>\u001b[0m in \u001b[0;36m<module>\u001b[0;34m\u001b[0m\n\u001b[0;32m----> 1\u001b[0;31m \u001b[0mremoveDuplicatesArray\u001b[0m\u001b[0;34m(\u001b[0m\u001b[0marray3\u001b[0m\u001b[0;34m)\u001b[0m\u001b[0;34m\u001b[0m\u001b[0;34m\u001b[0m\u001b[0m\n\u001b[0m",
      "\u001b[0;32m<ipython-input-354-96c1c9a2405e>\u001b[0m in \u001b[0;36mremoveDuplicatesArray\u001b[0;34m(nums)\u001b[0m\n\u001b[1;32m      8\u001b[0m             \u001b[0mnums\u001b[0m\u001b[0;34m[\u001b[0m\u001b[0mj\u001b[0m\u001b[0;34m]\u001b[0m \u001b[0;34m=\u001b[0m \u001b[0mnums\u001b[0m\u001b[0;34m[\u001b[0m\u001b[0mi\u001b[0m\u001b[0;34m]\u001b[0m\u001b[0;34m\u001b[0m\u001b[0;34m\u001b[0m\u001b[0m\n\u001b[1;32m      9\u001b[0m             \u001b[0mprint\u001b[0m\u001b[0;34m(\u001b[0m\u001b[0;34m\"J\"\u001b[0m\u001b[0;34m,\u001b[0m \u001b[0mj\u001b[0m\u001b[0;34m,\u001b[0m \u001b[0;34m\"I\"\u001b[0m\u001b[0;34m,\u001b[0m \u001b[0mi\u001b[0m\u001b[0;34m,\u001b[0m \u001b[0;34m\"NUMS\"\u001b[0m\u001b[0;34m,\u001b[0m \u001b[0mnums\u001b[0m\u001b[0;34m)\u001b[0m\u001b[0;34m\u001b[0m\u001b[0;34m\u001b[0m\u001b[0m\n\u001b[0;32m---> 10\u001b[0;31m     \u001b[0;32mreturn\u001b[0m \u001b[0mtracker\u001b[0m \u001b[0;34m+\u001b[0m \u001b[0;36m1\u001b[0m\u001b[0;34m\u001b[0m\u001b[0;34m\u001b[0m\u001b[0m\n\u001b[0m",
      "\u001b[0;31mNameError\u001b[0m: name 'tracker' is not defined"
     ]
    }
   ],
   "source": [
    "removeDuplicatesArray(array3)"
   ]
  },
  {
   "cell_type": "code",
   "execution_count": 345,
   "metadata": {},
   "outputs": [
    {
     "data": {
      "text/plain": [
       "[1, 2, 3, 4, 2, 3, 4]"
      ]
     },
     "execution_count": 345,
     "metadata": {},
     "output_type": "execute_result"
    }
   ],
   "source": [
    "array2"
   ]
  },
  {
   "cell_type": "code",
   "execution_count": 5,
   "metadata": {},
   "outputs": [],
   "source": [
    "# This is just a version that I did before I remembered there could be no use of an additional counter.\n",
    "def removeDuplicatesArray(nums):\n",
    "    counter = []\n",
    "    for i in nums:\n",
    "        if i not in counter:\n",
    "            counter.append(i)\n",
    "    for i in range(0,len(counter)):\n",
    "        nums[i] = counter[i]\n",
    "    return len(counter)"
   ]
  },
  {
   "cell_type": "code",
   "execution_count": 8,
   "metadata": {},
   "outputs": [
    {
     "data": {
      "text/plain": [
       "5"
      ]
     },
     "execution_count": 8,
     "metadata": {},
     "output_type": "execute_result"
    }
   ],
   "source": [
    "removeDuplicatesArray(array1)"
   ]
  },
  {
   "cell_type": "code",
   "execution_count": 9,
   "metadata": {},
   "outputs": [
    {
     "data": {
      "text/plain": [
       "[0, 1, 2, 3, 4, 2, 2, 3, 3, 4]"
      ]
     },
     "execution_count": 9,
     "metadata": {},
     "output_type": "execute_result"
    }
   ],
   "source": [
    "array1"
   ]
  },
  {
   "cell_type": "code",
   "execution_count": 282,
   "metadata": {},
   "outputs": [],
   "source": [
    "def removeDuplicates(nums):\n",
    "    for i in nums:\n",
    "        while nums.count(i) > 1:\n",
    "            nums.remove(i)\n",
    "    return len(nums)\n",
    "\n",
    "# This solution executes 50x slower than the average algorithm on leetcode. Technically a success, but back to the drawing board."
   ]
  },
  {
   "cell_type": "code",
   "execution_count": 180,
   "metadata": {},
   "outputs": [
    {
     "name": "stdout",
     "output_type": "stream",
     "text": [
      "0\n"
     ]
    }
   ],
   "source": [
    "for x in range(0,1):\n",
    "    print(x)"
   ]
  },
  {
   "cell_type": "code",
   "execution_count": null,
   "metadata": {},
   "outputs": [],
   "source": [
    "def removeDuplicatesArray(nums):\n",
    "    counter = 0\n",
    "    i = 0\n",
    "    while i in range(0,len(nums)-1):\n",
    "        if nums[i] == nums[i-1]:\n",
    "            if nums[i] != nums[i+1]:\n",
    "                nums[i] = nums[i+1]\n",
    "                i = counter\n",
    "            elif nums[i] == nums[i-1]:\n",
    "                i +=1\n",
    "        elif nums[i] != nums[i-1]:\n",
    "            counter +=1\n",
    "            i += 1\n",
    "    counter = 1\n",
    "    for i in range(0,len(nums)-1):\n",
    "        if nums[i] != nums[i+1]:\n",
    "            counter += 1\n",
    "    return counter\n",
    "\n",
    "# This was my second working attempt. It failed memory requirements - even slower than the first one! "
   ]
  }
 ],
 "metadata": {
  "kernelspec": {
   "display_name": "Python 3",
   "language": "python",
   "name": "python3"
  },
  "language_info": {
   "codemirror_mode": {
    "name": "ipython",
    "version": 3
   },
   "file_extension": ".py",
   "mimetype": "text/x-python",
   "name": "python",
   "nbconvert_exporter": "python",
   "pygments_lexer": "ipython3",
   "version": "3.7.6"
  }
 },
 "nbformat": 4,
 "nbformat_minor": 4
}
