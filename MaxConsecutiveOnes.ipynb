{
 "cells": [
  {
   "cell_type": "markdown",
   "metadata": {},
   "source": [
    "Leetcode Problem 1:\n",
    "\n",
    "Given a binary array, find the maximum number of consecutive 1s in this array.\n",
    "\n",
    "Example 1:\n",
    "Input: [1,1,0,1,1,1]\n",
    "Output: 3\n",
    "Explanation: The first two digits or the last three digits are consecutive 1s.\n",
    "    The maximum number of consecutive 1s is 3.\n",
    "Note:\n",
    "\n",
    "The input array will only contain 0 and 1.\n",
    "The length of input array is a positive integer and will not exceed 10,000\n"
   ]
  },
  {
   "cell_type": "code",
   "execution_count": 1,
   "metadata": {},
   "outputs": [],
   "source": []
  },
  {
   "cell_type": "code",
   "execution_count": 35,
   "metadata": {},
   "outputs": [],
   "source": [
    "def findMaxConsecutiveOnes(nums):\n",
    "    maxi = 0\n",
    "    counter = 0\n",
    "    i = 0\n",
    "    while i < len(nums):\n",
    "        if nums[i] == 1:\n",
    "            counter += 1\n",
    "            if counter > maxi:\n",
    "                maxi = counter\n",
    "            i += 1\n",
    "        else:\n",
    "            if counter > maxi:\n",
    "                maxi = counter\n",
    "            else:\n",
    "                counter = 0\n",
    "                i += 1\n",
    "    return maxi\n",
    "                "
   ]
  },
  {
   "cell_type": "code",
   "execution_count": 6,
   "metadata": {},
   "outputs": [],
   "source": [
    "arr1 = [1,1,0,1,1,1]\n",
    "arr2 = [1,0,1,0,0,0]\n",
    "arr3 = [1,1,1,1,1,1,0,1,1,0]\n",
    "arr4 = [0,0,0,0,0,0,0]\n",
    "arr5 = [0,0,0,0,0,0,1]\n"
   ]
  },
  {
   "cell_type": "code",
   "execution_count": 41,
   "metadata": {},
   "outputs": [
    {
     "name": "stdout",
     "output_type": "stream",
     "text": [
      "3\n",
      "1\n",
      "6\n",
      "0\n",
      "1\n"
     ]
    }
   ],
   "source": [
    "print(findMaxConsecutiveOnes(arr1))\n",
    "print(findMaxConsecutiveOnes(arr2))\n",
    "print(findMaxConsecutiveOnes(arr3))\n",
    "print(findMaxConsecutiveOnes(arr4))\n",
    "print(findMaxConsecutiveOnes(arr5))"
   ]
  },
  {
   "cell_type": "code",
   "execution_count": null,
   "metadata": {},
   "outputs": [],
   "source": []
  }
 ],
 "metadata": {
  "kernelspec": {
   "display_name": "Python 3",
   "language": "python",
   "name": "python3"
  },
  "language_info": {
   "codemirror_mode": {
    "name": "ipython",
    "version": 3
   },
   "file_extension": ".py",
   "mimetype": "text/x-python",
   "name": "python",
   "nbconvert_exporter": "python",
   "pygments_lexer": "ipython3",
   "version": "3.7.6"
  }
 },
 "nbformat": 4,
 "nbformat_minor": 4
}
